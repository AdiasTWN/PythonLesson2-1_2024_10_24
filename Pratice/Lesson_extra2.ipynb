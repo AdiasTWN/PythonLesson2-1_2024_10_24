{
 "cells": [
  {
   "cell_type": "code",
   "execution_count": 9,
   "metadata": {},
   "outputs": [
    {
     "name": "stdout",
     "output_type": "stream",
     "text": [
      "是55.0公斤=為121.23磅\n"
     ]
    }
   ],
   "source": [
    "import math\n",
    "#公斤轉換成磅\n",
    "KILLO_TO_POUND = 2.20426\n",
    "kilograms=float(input(\"請輸入公斤:\"))\n",
    "pounds=kilograms*KILLO_TO_POUND\n",
    "print(f'是{kilograms}公斤=為{pounds:.2f}磅')"
   ]
  },
  {
   "cell_type": "code",
   "execution_count": 7,
   "metadata": {},
   "outputs": [
    {
     "name": "stdout",
     "output_type": "stream",
     "text": [
      "12.0磅=為5.44公斤\n"
     ]
    }
   ],
   "source": [
    "import math\n",
    "#磅轉換為公斤\n",
    "pounds=float(input(\"請輸入磅數:\"))\n",
    "kilograms=pounds/2.20426\n",
    "print(f'{pounds}磅=為{kilograms:.2f}公斤')"
   ]
  }
 ],
 "metadata": {
  "kernelspec": {
   "display_name": "Python 3",
   "language": "python",
   "name": "python3"
  },
  "language_info": {
   "codemirror_mode": {
    "name": "ipython",
    "version": 3
   },
   "file_extension": ".py",
   "mimetype": "text/x-python",
   "name": "python",
   "nbconvert_exporter": "python",
   "pygments_lexer": "ipython3",
   "version": "3.10.15"
  }
 },
 "nbformat": 4,
 "nbformat_minor": 2
}
