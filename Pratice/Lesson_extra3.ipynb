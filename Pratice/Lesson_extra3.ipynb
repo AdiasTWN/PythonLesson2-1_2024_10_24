{
 "cells": [
  {
   "cell_type": "code",
   "execution_count": 58,
   "metadata": {},
   "outputs": [
    {
     "name": "stdout",
     "output_type": "stream",
     "text": [
      "太高了太高了，進擊的巨人，你再看看是不是打多了，除非你是巨人，再不然就是你是幫建築物量身高。\n",
      "2.3\n",
      "你打錯了，請再試一次\n",
      "程式結束\n"
     ]
    }
   ],
   "source": [
    "try:\n",
    "    weight = eval(input(\"請輸入您有多寬(公斤為單位，不要嘗試打公克，你會肥死)\"))\n",
    "    if weight >= 800:\n",
    "        print(\"就跟你說太肥了，你是把車開上來了膩?\")\n",
    "\n",
    "    if weight <= 0.5:\n",
    "        print(\"太輕了，這是體重計，不是秤水果的\")\n",
    "\n",
    "    height = eval(input(\"請輸入您有多長(公尺為單位，不要打公分)\"))\n",
    "    if height >= 500:\n",
    "        print(\"太高了太高了，進擊的巨人，你再看看是不是打多了，除非你是巨人，\\\n",
    "再不然就是你是幫建築物量身高。\")\n",
    "\n",
    "    if height <=1:\n",
    "        print(\"太矮了，你是在幫螞蟻量身高是不是?\")\n",
    "\n",
    "    BMI肥值 = weight/((height/100)**2)\n",
    "    print(f'{BMI肥值:.1f}')\n",
    "    if BMI肥值 <=5:\n",
    "        print(\"你打錯了，請再試一次\")\n",
    "\n",
    "    elif BMI肥值 <18.5:\n",
    "        print(\"體重過輕，去看醫生!可能你有病，不是就多吃點\")\n",
    "\n",
    "    elif BMI肥值 <=24:\n",
    "        print(\"正常範圍，你超健康的啦!\")\n",
    "\n",
    "    elif BMI肥值 <27:\n",
    "        print(\"過重，注意一下，如果你/妳有健身就沒問題\")\n",
    "\n",
    "    elif BMI肥值 <=30:\n",
    "        print(\"輕度肥胖，還能接受?或許你有健身，但還是多注意一點\")\n",
    "\n",
    "    elif BMI肥值 <35:\n",
    "        print(\"中度肥胖，該減肥了，小豬，身材走鐘了\")\n",
    "\n",
    "    elif BMI肥值 <=204:\n",
    "        print(\"重度肥胖，不行!你/妳必須看醫生，然後減肥!\")\n",
    "\n",
    "    elif BMI肥值 >204:\n",
    "        print(\"你再檢查一下，太奇怪了，除非你是幫汽車量，不然不可能那麼重?\")\n",
    "\n",
    "except SyntaxError:\n",
    "    print(\"你打錯了!F4+Alt對你比較有幫助，確定檢查後再試試看。\")\n",
    "except Exception:\n",
    "    print(\"我們遭遇到不知名錯誤，請回報給程式員進行修正，Sorry!!!\")\n",
    "print(\"程式結束\")"
   ]
  }
 ],
 "metadata": {
  "kernelspec": {
   "display_name": "Python 3",
   "language": "python",
   "name": "python3"
  },
  "language_info": {
   "codemirror_mode": {
    "name": "ipython",
    "version": 3
   },
   "file_extension": ".py",
   "mimetype": "text/x-python",
   "name": "python",
   "nbconvert_exporter": "python",
   "pygments_lexer": "ipython3",
   "version": "3.10.15"
  }
 },
 "nbformat": 4,
 "nbformat_minor": 2
}
