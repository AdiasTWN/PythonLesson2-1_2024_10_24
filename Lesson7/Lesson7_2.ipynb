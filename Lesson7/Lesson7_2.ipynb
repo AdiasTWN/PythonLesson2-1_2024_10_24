{
 "cells": [
  {
   "cell_type": "code",
   "execution_count": 1,
   "metadata": {},
   "outputs": [
    {
     "name": "stdout",
     "output_type": "stream",
     "text": [
      "酒:白酒\n",
      "主餐:牛排\n",
      "甜點:蛋糕\n"
     ]
    }
   ],
   "source": [
    "def menu(wine:str,entree:str,dessert:str) -> None:\n",
    "    print(f\"酒:{wine}\")\n",
    "    print(f\"主餐:{entree}\")\n",
    "    print(f\"甜點:{dessert}\")\n",
    "\n",
    "#引數值的呼叫->依照順序\n",
    "\n",
    "menu('白酒','牛排','蛋糕',)"
   ]
  },
  {
   "cell_type": "code",
   "execution_count": null,
   "metadata": {},
   "outputs": [
    {
     "name": "stdout",
     "output_type": "stream",
     "text": [
      "藝術家:地達羅\n",
      "就是:就是\n",
      "爆炸:爆炸\n"
     ]
    }
   ],
   "source": [
    "#TEST\n",
    "def charater(Boomman:str,Boom:str,art:str) -> None:\n",
    "    print(f\"藝術家:{Boomman}\")\n",
    "    print(f\"就是:{Boom}\")\n",
    "    print(f\"爆炸:{art}\")\n",
    "\n",
    "charater(\"地達羅\",\"就是\",\"爆炸\")"
   ]
  },
  {
   "cell_type": "code",
   "execution_count": null,
   "metadata": {},
   "outputs": [
    {
     "name": "stdout",
     "output_type": "stream",
     "text": [
      "酒:白酒\n",
      "主餐:牛排\n",
      "甜點:蛋糕\n",
      "====================\n",
      "酒:白酒\n",
      "主餐:牛排\n",
      "甜點:蛋糕\n"
     ]
    }
   ],
   "source": [
    "def menu(wine:str,entree:str,dessert:str) -> None:\n",
    "    print(f\"酒:{wine}\")\n",
    "    print(f\"主餐:{entree}\")\n",
    "    print(f\"甜點:{dessert}\")\n",
    "\n",
    "#呼叫->不依照順序\n",
    "\n",
    "menu(wine='白酒',entree='牛排',dessert='蛋糕',)\n",
    "print(\"====================\")\n",
    "menu(entree=\"牛排\",dessert='蛋糕',wine='白酒')"
   ]
  },
  {
   "cell_type": "code",
   "execution_count": 10,
   "metadata": {},
   "outputs": [
    {
     "name": "stdout",
     "output_type": "stream",
     "text": [
      "酒:白酒\n",
      "主餐:牛排\n",
      "甜點:蛋糕\n",
      "====================\n",
      "酒:白酒\n",
      "主餐:牛排\n",
      "甜點:蛋糕\n"
     ]
    }
   ],
   "source": [
    "def menu(wine:str,entree:str,dessert:str) -> None:\n",
    "    print(f\"酒:{wine}\")\n",
    "    print(f\"主餐:{entree}\")\n",
    "    print(f\"甜點:{dessert}\")\n",
    "\n",
    "#混和呼叫->前面使用引數值,後面使用引數名稱\n",
    "\n",
    "menu('白酒',dessert=\"蛋糕\",entree=\"牛排\")\n",
    "print(\"====================\")\n",
    "menu('白酒',\"牛排\",dessert=\"蛋糕\")"
   ]
  },
  {
   "cell_type": "code",
   "execution_count": 12,
   "metadata": {},
   "outputs": [
    {
     "name": "stdout",
     "output_type": "stream",
     "text": [
      "酒:白酒\n",
      "主餐:牛排\n",
      "甜點:奶昔\n",
      "=======================\n",
      "酒:白酒\n",
      "主餐:牛排\n",
      "甜點:蛋糕\n"
     ]
    }
   ],
   "source": [
    "def menu(wine:str,entree:str,dessert:str=\"奶昔\") -> None:\n",
    "    print(f\"酒:{wine}\")\n",
    "    print(f\"主餐:{entree}\")\n",
    "    print(f\"甜點:{dessert}\")\n",
    "\n",
    "menu(\"白酒\",\"牛排\")\n",
    "print(\"=======================\")\n",
    "menu('白酒','牛排',dessert='蛋糕')"
   ]
  },
  {
   "cell_type": "code",
   "execution_count": 13,
   "metadata": {},
   "outputs": [
    {
     "name": "stdout",
     "output_type": "stream",
     "text": [
      "()\n",
      "=====================\n",
      "('a', '1', 4, 9, 6, 8, 7)\n"
     ]
    }
   ],
   "source": [
    "# *args=沒有限定數量的引數值呼叫\n",
    "def print_args(*args)->None:\n",
    "    print(args)\n",
    "\n",
    "print_args()\n",
    "print(\"=====================\")\n",
    "print_args('a','1',4,9,6,8,7)"
   ]
  },
  {
   "cell_type": "code",
   "execution_count": null,
   "metadata": {},
   "outputs": [
    {
     "name": "stdout",
     "output_type": "stream",
     "text": [
      "{}\n",
      "==================\n",
      "{'one': '1', 'two': '2', 'three': '3'}\n"
     ]
    }
   ],
   "source": [
    "# **kwargs=>沒有限定數量的引數名稱呼叫\n",
    "def print_kwargs(**kwargs):\n",
    "    print(kwargs)\n",
    "\n",
    "print_kwargs()\n",
    "print(\"==================\")\n",
    "print_kwargs(one = '1',two = '2',three = '3')\n",
    "\n",
    "#{}--->detionary 辭典"
   ]
  },
  {
   "cell_type": "code",
   "execution_count": null,
   "metadata": {},
   "outputs": [
    {
     "name": "stdout",
     "output_type": "stream",
     "text": [
      "()\n",
      "{}\n",
      "======================\n",
      "(1, 2, 3, 4, 5)\n",
      "{'one': '1', 'two': '2', 'three': '3'}\n"
     ]
    }
   ],
   "source": [
    "def print_all(*args,**kwargs):\n",
    "    print(args)\n",
    "    print(kwargs)\n",
    "\n",
    "print_all()\n",
    "print('======================')\n",
    "print_all(1,2,3,4,5,one = '1',two = '2',three = '3')"
   ]
  },
  {
   "cell_type": "code",
   "execution_count": null,
   "metadata": {},
   "outputs": [
    {
     "data": {
      "text/plain": [
       "87.5"
      ]
     },
     "execution_count": 21,
     "metadata": {},
     "output_type": "execute_result"
    }
   ],
   "source": [
    "(first,second,third)=(1,\"hello\",87.5)\n",
    "print(first)\n",
    "print(second)\n",
    "print(third)"
   ]
  },
  {
   "cell_type": "code",
   "execution_count": 22,
   "metadata": {},
   "outputs": [
    {
     "data": {
      "text/plain": [
       "(1, 'hello', 87.5)"
      ]
     },
     "execution_count": 22,
     "metadata": {},
     "output_type": "execute_result"
    }
   ],
   "source": [
    "first,second,third"
   ]
  },
  {
   "cell_type": "code",
   "execution_count": 23,
   "metadata": {},
   "outputs": [],
   "source": [
    "first,second,third = (1,9,8)"
   ]
  },
  {
   "cell_type": "code",
   "execution_count": null,
   "metadata": {},
   "outputs": [],
   "source": [
    "def input_data()->tuple[str,int,int]: #tuple = 暫時資料\n",
    "    name = input(\"請輸入姓名:\")\n",
    "    print(f\"請輸入姓名:{name}\") #印出姓名\n",
    "    height = eval(input(\"請輸入身高(cm):\"))\n",
    "    print(f\"請輸入身高(cm):{height}\") #印出身高\n",
    "    weight = eval(input(\"請輸入體重(kg):\"))\n",
    "    print(f\"請輸入體重(kg):{weight}\") #印出體重\n",
    "    return name, height, weight\n",
    "\n",
    "def get_status(BMI:int)->str:#有傳出值的function\n",
    "    if BMI >=35:\n",
    "        status = \"重度肥胖\"\n",
    "    elif BMI >= 30:\n",
    "        status = \"中度肥胖\"\n",
    "    elif BMI >= 27:\n",
    "        status = \"輕度肥胖\"\n",
    "    elif BMI >= 24:\n",
    "        status = \"過重\"\n",
    "    elif BMI >= 18.5:\n",
    "        status = \"正常範圍\"\n",
    "    else:\n",
    "        status = \"體重過輕\"\n",
    "\n",
    "    return status \n",
    "        \n",
    "while(True):\n",
    "    print(\"BMI的計算\")\n",
    "    try: #判斷使用者是否有輸入錯誤\n",
    "        name, height, weight = input_data()\n",
    "    except Exception :\n",
    "        print(\"格式錯誤,請重新輸入\")\n",
    "        print(\"=========================\")\n",
    "        continue #重新跑while迴圈\n",
    "    BMI = weight / ((height/100)**2) #如果以上皆正確執行BMI判斷\n",
    "    print(f\"{name}的BMI值:{BMI:.2f}\") #印出BMI\n",
    "    status = get_status(BMI)\n",
    "    print(f\"{name}的體重:{status}\")\n",
    "    value = input(\"您還要繼續嗎?(y繼續,n結束):\") #印出是否繼續\n",
    "    print(f\"您還要繼續嗎?(y繼續,n結束):{value}\")\n",
    "    print(\"=========================\")\n",
    "    if value.upper()=='N': #如果輸入n/N即跳出while迴圈 "
   ]
  }
 ],
 "metadata": {
  "kernelspec": {
   "display_name": "Python 3",
   "language": "python",
   "name": "python3"
  },
  "language_info": {
   "codemirror_mode": {
    "name": "ipython",
    "version": 3
   },
   "file_extension": ".py",
   "mimetype": "text/x-python",
   "name": "python",
   "nbconvert_exporter": "python",
   "pygments_lexer": "ipython3",
   "version": "3.10.15"
  }
 },
 "nbformat": 4,
 "nbformat_minor": 2
}
