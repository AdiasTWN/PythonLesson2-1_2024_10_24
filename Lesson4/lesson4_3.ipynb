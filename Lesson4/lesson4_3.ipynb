{
 "cells": [
  {
   "cell_type": "code",
   "execution_count": 18,
   "metadata": {},
   "outputs": [
    {
     "name": "stdout",
     "output_type": "stream",
     "text": [
      "恭喜你及格了!!!你好棒棒喔!!!\n",
      "哇!太厲害了!學霸4你\n"
     ]
    }
   ],
   "source": [
    "scores = eval(input('請輸入學生那該死的成績:'))\n",
    "if scores >= 60:\n",
    "    print(\"恭喜你及格了!!!你好棒棒喔!!!\")\n",
    "    if scores >= 80:\n",
    "        print(\"哇!太厲害了!學霸4你\")\n",
    "    else:\n",
    "        if scores >= 100:\n",
    "            print(\"哇!太神啦!\")\n",
    "        else:\n",
    "            if scores >=101:\n",
    "             print(\"喂!你是不是在開玩笑?駭客逆\")\n",
    "else:\n",
    "    print(\"可憐哪...你還是洗洗睡吧\")"
   ]
  },
  {
   "cell_type": "code",
   "execution_count": 13,
   "metadata": {},
   "outputs": [
    {
     "name": "stdout",
     "output_type": "stream",
     "text": [
      "不及格\n",
      "丙\n"
     ]
    }
   ],
   "source": [
    "scores = int(input(\"請輸入學生分數0~100\"))\n",
    "if scores >= 60:\n",
    "    print(\"及格\")\n",
    "    if scores >= 90:\n",
    "        print(\"優\")\n",
    "    else:\n",
    "        print(\"一般\")\n",
    "else:\n",
    "    print(\"不及格\")\n",
    "    if scores >= 50:\n",
    "        print(\"丙\")\n",
    "    else:\n",
    "        print(\"丁\")"
   ]
  },
  {
   "cell_type": "code",
   "execution_count": 29,
   "metadata": {},
   "outputs": [
    {
     "name": "stdout",
     "output_type": "stream",
     "text": [
      "太優秀啦!!!學霸4你\n"
     ]
    }
   ],
   "source": [
    "scores = eval(input(\"請輸入學生那該死的成績\"))\n",
    "\n",
    "if scores >= 90:\n",
    "    print(\"太優秀啦!!!學霸4你\")\n",
    "else:\n",
    "    if scores >=80:\n",
    "        print(\"水啦!還不錯ㄋㄟ~\")\n",
    "    else:\n",
    "        if scores >=70:\n",
    "            print(\"還不錯喔，繼續保持~\")\n",
    "        else: \n",
    "            if scores >=60:\n",
    "                print(\"哇!你是開飛機逆，低空飛過4怎樣?\")\n",
    "            else:\n",
    "                if scores >=40:\n",
    "                    print(\"哎呀!差一點ㄟ~還有G會\")\n",
    "                else:\n",
    "                    print(\"嗨呀~怎麼會這樣，洗洗睡好了\")\n",
    "                "
   ]
  },
  {
   "cell_type": "code",
   "execution_count": 32,
   "metadata": {},
   "outputs": [
    {
     "name": "stdout",
     "output_type": "stream",
     "text": [
      "嗨呀~怎麼會這樣，洗洗睡好了\n"
     ]
    }
   ],
   "source": [
    "scores = eval(input(\"請輸入學生那該死的成績\"))\n",
    "\n",
    "if scores >= 90:\n",
    "    print(\"太優秀啦!!!學霸4你\")\n",
    "elif scores >=80:\n",
    "    print(\"水啦!還不錯ㄋㄟ~\")\n",
    "elif scores >=70:\n",
    "    print(\"還不錯喔，繼續保持~\") \n",
    "elif scores >=60:\n",
    "    print(\"哇!你是開飛機逆，低空飛過4怎樣?\")\n",
    "elif scores >=40:\n",
    "    print(\"哎呀!差一點ㄟ~還有G會\")\n",
    "else:\n",
    "    print(\"嗨呀~怎麼會這樣，洗洗睡好了\")"
   ]
  }
 ],
 "metadata": {
  "kernelspec": {
   "display_name": "Python 3",
   "language": "python",
   "name": "python3"
  },
  "language_info": {
   "codemirror_mode": {
    "name": "ipython",
    "version": 3
   },
   "file_extension": ".py",
   "mimetype": "text/x-python",
   "name": "python",
   "nbconvert_exporter": "python",
   "pygments_lexer": "ipython3",
   "version": "3.10.15"
  }
 },
 "nbformat": 4,
 "nbformat_minor": 2
}
