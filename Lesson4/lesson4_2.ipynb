{
 "cells": [
  {
   "cell_type": "code",
   "execution_count": 21,
   "metadata": {},
   "outputs": [
    {
     "name": "stdout",
     "output_type": "stream",
     "text": [
      "老師太神啦!發生錯誤啦!\n",
      "結束了...都結束了...我沒用了\n"
     ]
    }
   ],
   "source": [
    "#學生總分最高為300\n",
    "#如果分數超過300,就以300分為準\n",
    "#有些學生可以加分5%\n",
    "try:\n",
    "    scores = eval(input('請輸入學生分數(最高300分):'))\n",
    "    if(scores > 300):\n",
    "        scores = 300\n",
    "    is_add = input(\"學生是否符合加分條件?(y,n)\")\n",
    "    if is_add == 'y':\n",
    "        scores *= 1.05\n",
    "        if scores > 300:\n",
    "            scores = 300\n",
    "    print(f\"學生的分數:{scores:.0f}\")\n",
    "\n",
    "except SyntaxError:\n",
    "    print(\"老師太神啦!發生錯誤啦!\")\n",
    "except Exception:\n",
    "    print(\"我不知道是什麼錯誤?或許問問神奇海螺比較有用?\")\n",
    "\n",
    "print(\"結束了...都結束了...我沒用了\")\n",
    "\n",
    "\n",
    "\n",
    "#此為老師示範"
   ]
  }
 ],
 "metadata": {
  "kernelspec": {
   "display_name": "Python 3",
   "language": "python",
   "name": "python3"
  },
  "language_info": {
   "codemirror_mode": {
    "name": "ipython",
    "version": 3
   },
   "file_extension": ".py",
   "mimetype": "text/x-python",
   "name": "python",
   "nbconvert_exporter": "python",
   "pygments_lexer": "ipython3",
   "version": "3.10.15"
  }
 },
 "nbformat": 4,
 "nbformat_minor": 2
}
