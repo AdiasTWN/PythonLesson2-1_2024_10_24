{
 "cells": [
  {
   "cell_type": "code",
   "execution_count": null,
   "metadata": {},
   "outputs": [
    {
     "name": "stdout",
     "output_type": "stream",
     "text": [
      "27\n"
     ]
    }
   ],
   "source": [
    "#建立亂數\n",
    "import random\n",
    "random.randint(1,100)"
   ]
  },
  {
   "cell_type": "code",
   "execution_count": 20,
   "metadata": {},
   "outputs": [
    {
     "name": "stdout",
     "output_type": "stream",
     "text": [
      "=========猜數字=========\n",
      "\n",
      "再大一點點就好\n",
      "您猜了1次\n",
      "==========================\n",
      "再小一點點就好\n",
      "您猜了2次\n",
      "==========================\n",
      "再小一點點就好\n",
      "您猜了3次\n",
      "==========================\n",
      "再大一點點就好\n",
      "您猜了4次\n",
      "==========================\n",
      "答對了!你贏了.....Nothing!Now get out，答案是91\n",
      "您總共猜了5次\n",
      "==========================\n",
      "結束\n"
     ]
    }
   ],
   "source": [
    "#猜數字\n",
    "\n",
    "import random\n",
    "\n",
    "min = 1\n",
    "max = 100\n",
    "count = 0\n",
    "target = random.randint(min,max)\n",
    "print(\"=========猜數字=========\\n\")\n",
    "\n",
    "while(True):\n",
    "    count += 1\n",
    "    try:\n",
    "        keyin = int(input(f\"猜數字範圍{min}~{max}\"))\n",
    "    except Exception:\n",
    "        print(\"請重新輸入\")\n",
    "        continue\n",
    "    if keyin >= min and keyin <= max:\n",
    "        if(keyin == target):\n",
    "            print(f\"答對了!你贏了.....Nothing!Now get out，答案是{target}\")\n",
    "            print(f\"您總共猜了{count}次\")\n",
    "            print(\"==========================\")\n",
    "            break\n",
    "\n",
    "        elif keyin > target:\n",
    "            print('再小一點點就好')\n",
    "\n",
    "            max = keyin - 1\n",
    "        elif keyin < target:\n",
    "            print(\"再大一點點就好\")\n",
    "\n",
    "            min = keyin + 1\n",
    "        print(f\"您猜了{count}次\")\n",
    "        print(\"==========================\")\n",
    "    else:\n",
    "        print(\"超出範圍\")\n",
    "print(\"結束\")"
   ]
  },
  {
   "cell_type": "code",
   "execution_count": 21,
   "metadata": {},
   "outputs": [
    {
     "name": "stdout",
     "output_type": "stream",
     "text": [
      "第1行程式\n",
      "第2行程式\n",
      "第3行程式\n",
      "第4行程式\n",
      "第5行程式\n",
      "第6行程式\n",
      "第7行程式\n",
      "第8行程式\n",
      "第9行程式\n",
      "第10行程式\n",
      "第11行程式\n",
      "第12行程式\n",
      "第13行程式\n",
      "第14行程式\n",
      "第15行程式\n",
      "第16行程式\n",
      "第17行程式\n",
      "第18行程式\n",
      "第19行程式\n",
      "第20行程式\n"
     ]
    }
   ],
   "source": [
    "#減少文件程式碼\n",
    "def func1():\n",
    "    print(\"第5行程式\")\n",
    "    print(\"第6行程式\")\n",
    "    print(\"第7行程式\")\n",
    "    print(\"第8行程式\")\n",
    "    print(\"第9行程式\")\n",
    "    print(\"第10行程式\")\n",
    "\n",
    "def func2():\n",
    "    print(\"第15行程式\")\n",
    "    print(\"第16行程式\")\n",
    "    print(\"第17行程式\")\n",
    "    print(\"第18行程式\")\n",
    "    print(\"第19行程式\")\n",
    "\n",
    "print(\"第1行程式\")\n",
    "print(\"第2行程式\")\n",
    "print(\"第3行程式\")\n",
    "print(\"第4行程式\")\n",
    "#呼叫func1\n",
    "func1()\n",
    "print(\"第11行程式\")\n",
    "print(\"第12行程式\")\n",
    "print(\"第13行程式\")\n",
    "print(\"第14行程式\")\n",
    "#呼叫func2\n",
    "func2()\n",
    "print(\"第20行程式\")"
   ]
  },
  {
   "cell_type": "code",
   "execution_count": null,
   "metadata": {},
   "outputs": [
    {
     "name": "stdout",
     "output_type": "stream",
     "text": [
      "a=314.159626\n",
      "a1=1256.638504\n"
     ]
    }
   ],
   "source": [
    "def circle_area(radius:int)->float: #有參數，有傳出值的function\n",
    "    area = 3.14159626 * radius **2\n",
    "    return area\n",
    "\n",
    "R = int(input(\"請輸入半徑:\"))\n",
    "a = circle_area(R)#引數值的呼叫\n",
    "a1 = circle_area(radius=R+10)\n",
    "print(f\"a={a}\")\n",
    "print(f\"a1={a1}\")"
   ]
  }
 ],
 "metadata": {
  "kernelspec": {
   "display_name": "Python 3",
   "language": "python",
   "name": "python3"
  },
  "language_info": {
   "codemirror_mode": {
    "name": "ipython",
    "version": 3
   },
   "file_extension": ".py",
   "mimetype": "text/x-python",
   "name": "python",
   "nbconvert_exporter": "python",
   "pygments_lexer": "ipython3",
   "version": "3.10.15"
  }
 },
 "nbformat": 4,
 "nbformat_minor": 2
}
