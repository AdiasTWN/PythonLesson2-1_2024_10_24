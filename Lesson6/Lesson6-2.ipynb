{
 "cells": [
  {
   "cell_type": "code",
   "execution_count": null,
   "metadata": {},
   "outputs": [
    {
     "name": "stdout",
     "output_type": "stream",
     "text": [
      "=========猜數字=========\n",
      "\n",
      "再小一點點就好\n",
      "您猜了1次\n",
      "==========================\n",
      "再大一點點就好\n",
      "您猜了2次\n",
      "==========================\n",
      "再小一點點就好\n",
      "您猜了3次\n",
      "==========================\n",
      "再大一點點就好\n",
      "您猜了4次\n",
      "==========================\n",
      "再大一點點就好\n",
      "您猜了5次\n",
      "==========================\n",
      "再大一點點就好\n",
      "您猜了6次\n",
      "==========================\n",
      "答對了!你贏了.....Nothing!Now get out，答案是37\n",
      "您總共猜了7次\n",
      "==========================\n",
      "=========猜數字=========\n",
      "\n",
      "請重新輸入\n",
      "請重新輸入\n",
      "請重新輸入\n",
      "請重新輸入\n",
      "請重新輸入\n"
     ]
    }
   ],
   "source": [
    "#猜數字\n",
    "import random\n",
    "\n",
    "#減少邏輯思考\n",
    "def playgame()->None:\n",
    "\n",
    "    min = 1\n",
    "    max = 100\n",
    "    count = 0\n",
    "    target = random.randint(min,max)\n",
    "    print(\"=========猜數字=========\\n\")\n",
    "\n",
    "    while(True):\n",
    "        count += 1\n",
    "        try:\n",
    "            keyin = int(input(f\"猜數字範圍{min}~{max}\"))\n",
    "        except Exception:\n",
    "            print(\"請重新輸入\")\n",
    "            continue\n",
    "        if keyin >= min and keyin <= max:\n",
    "            if(keyin == target):\n",
    "                print(f\"答對了!你贏了.....Nothing!Now get out，答案是{target}\")\n",
    "                print(f\"您總共猜了{count}次\")\n",
    "                print(\"==========================\")\n",
    "                break\n",
    "\n",
    "            elif keyin > target:\n",
    "                print('再小一點點就好')\n",
    "\n",
    "                max = keyin - 1\n",
    "            elif keyin < target:\n",
    "                print(\"再大一點點就好\")\n",
    "\n",
    "                min = keyin + 1\n",
    "            print(f\"您猜了{count}次\")\n",
    "            print(\"==========================\")\n",
    "        else:\n",
    "            print(\"超出範圍\")\n",
    "\n",
    "\n",
    "while(True):\n",
    "    playgame()\n",
    "    answer = input(\"請問還要繼續嗎?y,n\")\n",
    "    if answer.upper == 'N':\n",
    "        break\n",
    "\n",
    "print(\"結束\")"
   ]
  }
 ],
 "metadata": {
  "kernelspec": {
   "display_name": "Python 3",
   "language": "python",
   "name": "python3"
  },
  "language_info": {
   "codemirror_mode": {
    "name": "ipython",
    "version": 3
   },
   "file_extension": ".py",
   "mimetype": "text/x-python",
   "name": "python",
   "nbconvert_exporter": "python",
   "pygments_lexer": "ipython3",
   "version": "3.10.15"
  }
 },
 "nbformat": 4,
 "nbformat_minor": 2
}
